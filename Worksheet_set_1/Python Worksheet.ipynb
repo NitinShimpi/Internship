{
 "cells": [
  {
   "cell_type": "code",
   "execution_count": 2,
   "id": "ffa6b0ef",
   "metadata": {},
   "outputs": [
    {
     "name": "stdout",
     "output_type": "stream",
     "text": [
      "Enter number: 5\n",
      "Factorial of 5 is 120\n"
     ]
    }
   ],
   "source": [
    "\n",
    "\n",
    "# Write a python program to find the factorial of a number.\n",
    "\n",
    "fact = int(input('Enter number: '))\n",
    "\n",
    "factorial = 1\n",
    "\n",
    "for i in range (1, fact+1):\n",
    "    factorial = factorial*i\n",
    "    \n",
    "print('Factorial of', fact, 'is', factorial)\n",
    "\n"
   ]
  },
  {
   "cell_type": "code",
   "execution_count": 3,
   "id": "55f4efd2",
   "metadata": {},
   "outputs": [
    {
     "name": "stdout",
     "output_type": "stream",
     "text": [
      "Enter number: 11\n",
      "11 is a prime number\n"
     ]
    }
   ],
   "source": [
    "# Write a python program to find whether a number is prime or composite.\n",
    "\n",
    "\n",
    "numb = int(input('Enter number: '))\n",
    "\n",
    "if numb == 0 or numb == 1:\n",
    "    print(numb, \"is neither prime nor composite number\")\n",
    "    \n",
    "else:\n",
    "    for i in range(2, numb):\n",
    "        if (numb % i == 0):\n",
    "            print(numb, \"is a composite number\")\n",
    "            break\n",
    "    else:\n",
    "        print(numb, \"is a prime number\")"
   ]
  },
  {
   "cell_type": "code",
   "execution_count": 4,
   "id": "53e6980a",
   "metadata": {},
   "outputs": [
    {
     "name": "stdout",
     "output_type": "stream",
     "text": [
      "Enter a string: nitin\n",
      "The string is palindrome\n"
     ]
    }
   ],
   "source": [
    "#Write a python program to check whether a given string is palindrome or not.\n",
    "\n",
    "\n",
    "strng = str(input('Enter a string: '))\n",
    "\n",
    "rev_strng = reversed(strng)\n",
    "\n",
    "if list(strng) == list(rev_strng):\n",
    "    print(\"The string is palindrome\")\n",
    "    \n",
    "else:\n",
    "    print(\"The string is not a palindrome\")\n",
    "    "
   ]
  },
  {
   "cell_type": "code",
   "execution_count": 5,
   "id": "69065bd4",
   "metadata": {},
   "outputs": [
    {
     "name": "stdout",
     "output_type": "stream",
     "text": [
      "Enter base: 5\n",
      "Enter height: 11\n",
      "Hypotenuse =  12.083045973594572\n"
     ]
    }
   ],
   "source": [
    "#Write a Python program to get the third side of right-angled triangle from two given sides.\n",
    "\n",
    "\n",
    "import math\n",
    "\n",
    "x = float(input('Enter base: '))\n",
    "\n",
    "y = float(input('Enter height: '))\n",
    "\n",
    "z = math.sqrt(x**2 + y**2)\n",
    "\n",
    "print (\"Hypotenuse = \", z)"
   ]
  },
  {
   "cell_type": "code",
   "execution_count": 6,
   "id": "1397ccb8",
   "metadata": {},
   "outputs": [
    {
     "name": "stdout",
     "output_type": "stream",
     "text": [
      "Enter the string: knowledge\n",
      "Frequency of each character is:  {'k': 1, 'n': 1, 'o': 1, 'w': 1, 'l': 1, 'e': 2, 'd': 1, 'g': 1}\n"
     ]
    }
   ],
   "source": [
    "#Write a python program to print the frequency of each of the characters present in a given string.\n",
    "\n",
    "\n",
    "string = input('Enter the string: ')\n",
    "dict = {}\n",
    "for i in string:\n",
    "    if i in dict:\n",
    "        dict[i] +=1\n",
    "        \n",
    "    else:\n",
    "        dict[i] = 1\n",
    "        \n",
    "print(\"Frequency of each character is: \", dict)"
   ]
  },
  {
   "cell_type": "code",
   "execution_count": null,
   "id": "ad4ec2c7",
   "metadata": {},
   "outputs": [],
   "source": []
  }
 ],
 "metadata": {
  "kernelspec": {
   "display_name": "Python 3 (ipykernel)",
   "language": "python",
   "name": "python3"
  },
  "language_info": {
   "codemirror_mode": {
    "name": "ipython",
    "version": 3
   },
   "file_extension": ".py",
   "mimetype": "text/x-python",
   "name": "python",
   "nbconvert_exporter": "python",
   "pygments_lexer": "ipython3",
   "version": "3.9.7"
  }
 },
 "nbformat": 4,
 "nbformat_minor": 5
}
